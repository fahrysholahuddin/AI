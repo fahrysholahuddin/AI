{
  "nbformat": 4,
  "nbformat_minor": 0,
  "metadata": {
    "kernelspec": {
      "display_name": "Python 3",
      "language": "python",
      "name": "python3"
    },
    "language_info": {
      "codemirror_mode": {
        "name": "ipython",
        "version": 3
      },
      "file_extension": ".py",
      "mimetype": "text/x-python",
      "name": "python",
      "nbconvert_exporter": "python",
      "pygments_lexer": "ipython3",
      "version": "3.7.1"
    },
    "colab": {
      "name": "Logika Fuzzy - Metode Tsukamoto.ipynb",
      "provenance": [],
      "collapsed_sections": [],
      "include_colab_link": true
    }
  },
  "cells": [
    {
      "cell_type": "markdown",
      "metadata": {
        "id": "view-in-github",
        "colab_type": "text"
      },
      "source": [
        "<a href=\"https://colab.research.google.com/github/fahrysholahuddin/AI/blob/main/Logika_Fuzzy_Metode_Tsukamoto.ipynb\" target=\"_parent\"><img src=\"https://colab.research.google.com/assets/colab-badge.svg\" alt=\"Open In Colab\"/></a>"
      ]
    },
    {
      "cell_type": "markdown",
      "metadata": {
        "id": "R2NmDXMoy2HP"
      },
      "source": [
        "# LOGIKA FUZZY"
      ]
    },
    {
      "cell_type": "markdown",
      "metadata": {
        "id": "8bUlswXny2HX"
      },
      "source": [
        "## Penerapan Metode Tsukamoto"
      ]
    },
    {
      "cell_type": "code",
      "metadata": {
        "id": "cW1P8Il_y2HX"
      },
      "source": [
        "def terkecil(b,a,x):\n",
        "    if(x<=a):\n",
        "        nilai = 1\n",
        "    elif(x>a and x<b):\n",
        "        nilai = (b-x)/(b-a)\n",
        "    elif(x>=b):\n",
        "        nilai = 0\n",
        "\n",
        "    return nilai"
      ],
      "execution_count": null,
      "outputs": []
    },
    {
      "cell_type": "code",
      "metadata": {
        "id": "Wkk6RQjcy2HY"
      },
      "source": [
        "def terbesar(b,a,x):\n",
        "    if(x<=a):\n",
        "        nilai = 0\n",
        "    elif(x>a and x<b):\n",
        "        nilai = (x-a)/(b-a)\n",
        "    elif(x>=b):\n",
        "        nilai = 1\n",
        "\n",
        "    return nilai"
      ],
      "execution_count": null,
      "outputs": []
    },
    {
      "cell_type": "code",
      "metadata": {
        "id": "ITokS8VMy2HY"
      },
      "source": [
        "def agregasi_turun(b,a,alfa):\n",
        "    nilai = b - (alfa*(b-a))\n",
        "    return nilai"
      ],
      "execution_count": null,
      "outputs": []
    },
    {
      "cell_type": "code",
      "metadata": {
        "id": "lPbcOfMAy2HZ"
      },
      "source": [
        "def agregasi_naik(b,a,alfa):\n",
        "    nilai = alfa*(b-a) + a\n",
        "    return nilai"
      ],
      "execution_count": null,
      "outputs": []
    },
    {
      "cell_type": "code",
      "metadata": {
        "id": "jWukYeZwy2HZ",
        "colab": {
          "base_uri": "https://localhost:8080/"
        },
        "outputId": "66a1c146-7774-4d2c-9cec-16ff3cd9bfa1"
      },
      "source": [
        "var = int(input(\"Jumlah variabel: \"))\n",
        "\n",
        "nama_var = []\n",
        "for i in range(var):\n",
        "    nama = input(\"Sebutkan nama variabel: \")\n",
        "    nama_var.append(nama)"
      ],
      "execution_count": null,
      "outputs": [
        {
          "output_type": "stream",
          "text": [
            "Jumlah variabel: 3\n",
            "Sebutkan nama variabel: permintaan\n",
            "Sebutkan nama variabel: persediaan\n",
            "Sebutkan nama variabel: produksi\n"
          ],
          "name": "stdout"
        }
      ]
    },
    {
      "cell_type": "code",
      "metadata": {
        "id": "KjtZONhEy2Ha",
        "colab": {
          "base_uri": "https://localhost:8080/"
        },
        "outputId": "0e272d0f-eb64-41fd-e51a-c77addf07542"
      },
      "source": [
        "variabel = dict()\n",
        "for i in nama_var:\n",
        "    print(i)\n",
        "    up = int(input(\"terbesar : \"))\n",
        "    down = int(input(\"terkecil : \"))\n",
        "    variabel.update({i+\"_terbesar\":up})\n",
        "    variabel.update({i+\"_terkecil\":down})\n",
        "    \n",
        "print(variabel)"
      ],
      "execution_count": null,
      "outputs": [
        {
          "output_type": "stream",
          "text": [
            "permintaan\n",
            "terbesar : 400\n",
            "terkecil : 100\n",
            "persediaan\n",
            "terbesar : 60\n",
            "terkecil : 20\n",
            "produksi\n",
            "terbesar : 600\n",
            "terkecil : 250\n",
            "{'permintaan_terbesar': 400, 'permintaan_terkecil': 100, 'persediaan_terbesar': 60, 'persediaan_terkecil': 20, 'produksi_terbesar': 600, 'produksi_terkecil': 250}\n"
          ],
          "name": "stdout"
        }
      ]
    },
    {
      "cell_type": "code",
      "metadata": {
        "id": "ales9jggy2Hb",
        "colab": {
          "base_uri": "https://localhost:8080/"
        },
        "outputId": "c60a5296-18fe-4f74-91d4-03918672203b"
      },
      "source": [
        "soal = dict()\n",
        "\n",
        "jml = int(input(\"Jumlah variabel yang diketahui : \"))\n",
        "\n",
        "for i in range(jml):\n",
        "    ver = input(\"Nama variabel : \")\n",
        "    val = int(input(\"Nilai : \"))   \n",
        "    soal.update({ver:val})\n",
        "    \n",
        "print(soal)\n",
        "\n",
        "dit = input(\"Variabel yang ditanyakan : \")"
      ],
      "execution_count": null,
      "outputs": [
        {
          "output_type": "stream",
          "text": [
            "Jumlah variabel yang diketahui : 2\n",
            "Nama variabel : permintaan\n",
            "Nilai : 350\n",
            "Nama variabel : persediaan\n",
            "Nilai : 45\n",
            "{'permintaan': 350, 'persediaan': 45}\n",
            "Variabel yang ditanyakan : produksi\n"
          ],
          "name": "stdout"
        }
      ]
    },
    {
      "cell_type": "code",
      "metadata": {
        "id": "wlKP2a2Iy2Hc",
        "colab": {
          "base_uri": "https://localhost:8080/"
        },
        "outputId": "ce517e0e-0390-4713-d5db-1b93f225ece6"
      },
      "source": [
        "nk = dict()\n",
        "for i in soal:\n",
        "    up = terbesar(variabel[i+\"_terbesar\"],variabel[i+\"_terkecil\"],soal[i])\n",
        "    down = terkecil(variabel[i+\"_terbesar\"],variabel[i+\"_terkecil\"],soal[i])\n",
        "    nk.update({i+\"_naik\":up})\n",
        "    nk.update({i+\"_turun\":down})\n",
        "\n",
        "print(nk)"
      ],
      "execution_count": null,
      "outputs": [
        {
          "output_type": "stream",
          "text": [
            "{'permintaan_naik': 0.8333333333333334, 'permintaan_turun': 0.16666666666666666, 'persediaan_naik': 0.625, 'persediaan_turun': 0.375}\n"
          ],
          "name": "stdout"
        }
      ]
    },
    {
      "cell_type": "markdown",
      "metadata": {
        "id": "j2rbENogJ7Of"
      },
      "source": [
        "* [R1]   IF permintaan TURUN AND Persediaan BANYAK, THEN Produksi Barang dr;\n",
        "* [R2]   IF permintaan TURUN AND Persediaan SEDIKIT, THEN Produksi Barang BERKURANG;\n",
        "* [R3]   IF permintaan NAIK AND Persediaan BANYAK, THEN Produksi Barang BERTAMBAH;\n",
        "* [R4]   IF permintaan NAIK AND Persediaan SEDIKIT, THEN Produksi Barang BERTAMBAH;"
      ]
    },
    {
      "cell_type": "code",
      "metadata": {
        "id": "4YuzLOK0y2Hd",
        "colab": {
          "base_uri": "https://localhost:8080/"
        },
        "outputId": "0b1c7ed1-8138-4122-8d86-bf6761795f96"
      },
      "source": [
        "#AGREGASI\n",
        "alfa = []\n",
        "z = []\n",
        "\n",
        "\n",
        "r = int(input(\"Masukkan jumlah peraturan : \"))\n",
        "\n",
        "for i in range(r):\n",
        "    kondisi1 = input(\"Kondisi 1(naik/turun): \")\n",
        "    kondisi2 = input(\"Kondisi 2(naik/turun): \")\n",
        "    kesimpulan = input(dit+\" (naik/turun): \")\n",
        "    #Fire Strength INTERSEKSI (AND)\n",
        "    a = min(nk[kondisi1],nk[kondisi2]) \n",
        "    alfa.append(a)\n",
        "    if(kesimpulan == \"turun\"):\n",
        "        zz = agregasi_turun(variabel[dit+\"_terbesar\"],variabel[dit+\"_terkecil\"],a)\n",
        "    elif(kesimpulan == \"naik\"):\n",
        "        zz = agregasi_naik(variabel[dit+\"_terbesar\"],variabel[dit+\"_terkecil\"],a)   \n",
        "    z.append(zz)"
      ],
      "execution_count": null,
      "outputs": [
        {
          "output_type": "stream",
          "text": [
            "Masukkan jumlah peraturan : 4\n",
            "Kondisi 1(naik/turun): permintaan_turun\n",
            "Kondisi 2(naik/turun): persediaan_naik\n",
            "produksi (naik/turun): turun\n",
            "Kondisi 1(naik/turun): permintaan_turun\n",
            "Kondisi 2(naik/turun): persediaan_turun\n",
            "produksi (naik/turun): turun\n",
            "Kondisi 1(naik/turun): permintaan_naik\n",
            "Kondisi 2(naik/turun): persediaan_turun\n",
            "produksi (naik/turun): naik\n",
            "Kondisi 1(naik/turun): permintaan_naik\n",
            "Kondisi 2(naik/turun): persediaan_naik\n",
            "produksi (naik/turun): naik\n"
          ],
          "name": "stdout"
        }
      ]
    },
    {
      "cell_type": "code",
      "metadata": {
        "id": "umI1JQlUy2Hd",
        "colab": {
          "base_uri": "https://localhost:8080/"
        },
        "outputId": "8118a105-c110-4f2c-ffa5-6d560636e310"
      },
      "source": [
        "print(alfa)\n",
        "print(z)"
      ],
      "execution_count": null,
      "outputs": [
        {
          "output_type": "stream",
          "text": [
            "[0.16666666666666666, 0.16666666666666666, 0.375, 0.625]\n",
            "[541.6666666666666, 541.6666666666666, 381.25, 468.75]\n"
          ],
          "name": "stdout"
        }
      ]
    },
    {
      "cell_type": "code",
      "metadata": {
        "id": "hrNehAtPy2He",
        "colab": {
          "base_uri": "https://localhost:8080/"
        },
        "outputId": "b427d0b2-0d47-4fcc-b2f0-c660f7644c2d"
      },
      "source": [
        "#DEFUZIFIKASI\n",
        "df = 0\n",
        "\n",
        "for i in range(len(alfa)):\n",
        "    df += alfa[i]*z[i]\n",
        "\n",
        "debug_df = df\n",
        "debug_alfa = sum(alfa)\n",
        "defuz = int(df/sum(alfa))\n",
        "print(\"Jadi, nilai \",dit,\" adalah \",defuz)"
      ],
      "execution_count": null,
      "outputs": [
        {
          "output_type": "stream",
          "text": [
            "Jadi, nilai  produksi  adalah  462\n"
          ],
          "name": "stdout"
        }
      ]
    },
    {
      "cell_type": "code",
      "metadata": {
        "id": "Ye2o-WYws76G"
      },
      "source": [
        ""
      ],
      "execution_count": null,
      "outputs": []
    }
  ]
}